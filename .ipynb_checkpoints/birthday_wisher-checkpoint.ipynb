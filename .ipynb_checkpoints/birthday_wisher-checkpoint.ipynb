{
 "cells": [
  {
   "cell_type": "code",
   "execution_count": 30,
   "id": "f46ae35f-510e-4dc8-99dc-73cfd4f46ea6",
   "metadata": {},
   "outputs": [],
   "source": [
    "import pandas as pd"
   ]
  },
  {
   "cell_type": "code",
   "execution_count": 31,
   "id": "59605ba6-575b-4a2e-8ff9-d4bbf0d55d3e",
   "metadata": {},
   "outputs": [],
   "source": [
    "import datetime"
   ]
  },
  {
   "cell_type": "code",
   "execution_count": 32,
   "id": "9f6eae6d-4954-4af4-b8f4-84534eb30adc",
   "metadata": {},
   "outputs": [],
   "source": [
    "from twilio.rest import Client"
   ]
  },
  {
   "cell_type": "code",
   "execution_count": 33,
   "id": "68cd9668-4011-482b-b867-c8e4c5c60a72",
   "metadata": {},
   "outputs": [],
   "source": [
    "import schedule"
   ]
  },
  {
   "cell_type": "code",
   "execution_count": 34,
   "id": "eb5060ca-a639-4a0e-a0d2-911ae64d585b",
   "metadata": {},
   "outputs": [],
   "source": [
    "import time"
   ]
  },
  {
   "cell_type": "code",
   "execution_count": 35,
   "id": "1a2ae2b5-1a26-4195-89f5-05d1d71da9c0",
   "metadata": {},
   "outputs": [],
   "source": [
    "# Twilio credentials from your Twilio account\n",
    "account_sid = 'AC7d04df93acafd23dc4a32a84e961b480'\n",
    "auth_token = '88aec9cda7ec02fc03bad0793b6b1dd9'\n",
    "twilio_whatsapp_number = 'whatsapp:+14155238886'  # Twilio sandbox number   "
   ]
  },
  {
   "cell_type": "code",
   "execution_count": 36,
   "id": "191112f1-9ab8-47bd-925b-243c5a99ffed",
   "metadata": {},
   "outputs": [],
   "source": [
    "# Send WhatsApp message function\n",
    "def send_whatsapp_message(to_number, message):\n",
    "    client = Client(account_sid, auth_token)\n",
    "    message = client.messages.create(\n",
    "        body=message,\n",
    "        from_=twilio_whatsapp_number,\n",
    "        to=f'whatsapp:+{to_number}'\n",
    "    )\n",
    "    print(f\"Message sent to {to_number}\")"
   ]
  },
  {
   "cell_type": "code",
   "execution_count": 37,
   "id": "5461a71d-b273-4451-8882-fecc1dda9419",
   "metadata": {},
   "outputs": [],
   "source": [
    "# Load friends' data from a CSV file\n",
    "def load_friends_data():\n",
    "    return pd.read_csv('friends_data.csv')"
   ]
  },
  {
   "cell_type": "code",
   "execution_count": 38,
   "id": "d27e22a9-5747-4f52-b6e2-613e25802d30",
   "metadata": {},
   "outputs": [],
   "source": [
    "# Check if today is anyone's birthday\n",
    "def check_birthdays():\n",
    "    today = datetime.datetime.now().strftime(\"%m-%d\")\n",
    "    friends = load_friends_data()\n",
    "    for index, row in friends.iterrows():\n",
    "        if today == row['Birthday']:\n",
    "            send_whatsapp_message(row['PhoneNumber'], f\"Happy Birthday, {row['Name']} Bhai! 🎉🎂\")"
   ]
  },
  {
   "cell_type": "code",
   "execution_count": 39,
   "id": "26ccf3a1-f57b-430d-89e9-4c66e0d92baa",
   "metadata": {},
   "outputs": [],
   "source": [
    "# Schedule the script to run daily\n",
    "def start_schedule():\n",
    "    schedule.every().day.at(\"23:52\").do(check_birthdays)\n",
    "    while True:\n",
    "        schedule.run_pending()\n",
    "        time.sleep(60)"
   ]
  },
  {
   "cell_type": "code",
   "execution_count": null,
   "id": "c7707274-cb69-4556-82e4-34dc0fe683c3",
   "metadata": {},
   "outputs": [
    {
     "name": "stdout",
     "output_type": "stream",
     "text": [
      "Message sent to 918969401606\n"
     ]
    }
   ],
   "source": [
    "if __name__ == \"__main__\":\n",
    "    start_schedule()"
   ]
  },
  {
   "cell_type": "code",
   "execution_count": null,
   "id": "95b16b8e-3e7c-46f0-9910-f02be55db7c5",
   "metadata": {},
   "outputs": [],
   "source": []
  },
  {
   "cell_type": "code",
   "execution_count": null,
   "id": "bd7cdece-ecff-4ef9-8843-96b218645242",
   "metadata": {},
   "outputs": [],
   "source": []
  },
  {
   "cell_type": "code",
   "execution_count": null,
   "id": "05b1c012-4d24-4f51-8fd4-898c64562e22",
   "metadata": {},
   "outputs": [],
   "source": []
  },
  {
   "cell_type": "code",
   "execution_count": null,
   "id": "afffc0c9-245e-46bf-858c-3e07fccc350f",
   "metadata": {},
   "outputs": [],
   "source": []
  },
  {
   "cell_type": "code",
   "execution_count": null,
   "id": "f54dabb9-1870-41d6-ab65-95fd37196634",
   "metadata": {},
   "outputs": [],
   "source": []
  },
  {
   "cell_type": "code",
   "execution_count": null,
   "id": "1d17613a-15bb-4842-8a5c-ed91d1b15070",
   "metadata": {},
   "outputs": [],
   "source": []
  },
  {
   "cell_type": "code",
   "execution_count": null,
   "id": "20512c4d-4cba-4025-9c22-b0f4b6f8c1ed",
   "metadata": {},
   "outputs": [],
   "source": []
  },
  {
   "cell_type": "code",
   "execution_count": null,
   "id": "050ba770-b83c-4b09-b4eb-295f4dfa4c9e",
   "metadata": {},
   "outputs": [],
   "source": []
  },
  {
   "cell_type": "code",
   "execution_count": null,
   "id": "56768e04-d2e2-4b7c-b935-4c5778117037",
   "metadata": {},
   "outputs": [],
   "source": []
  }
 ],
 "metadata": {
  "kernelspec": {
   "display_name": "Python 3 (ipykernel)",
   "language": "python",
   "name": "python3"
  },
  "language_info": {
   "codemirror_mode": {
    "name": "ipython",
    "version": 3
   },
   "file_extension": ".py",
   "mimetype": "text/x-python",
   "name": "python",
   "nbconvert_exporter": "python",
   "pygments_lexer": "ipython3",
   "version": "3.12.5"
  }
 },
 "nbformat": 4,
 "nbformat_minor": 5
}
