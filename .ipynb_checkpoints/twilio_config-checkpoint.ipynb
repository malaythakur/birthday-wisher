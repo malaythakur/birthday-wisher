{
 "cells": [
  {
   "cell_type": "code",
   "execution_count": 1,
   "id": "f05478aa-04b7-4183-b049-55114ca1b42d",
   "metadata": {},
   "outputs": [
    {
     "name": "stdout",
     "output_type": "stream",
     "text": [
      "Message sent to 918969401606\n"
     ]
    }
   ],
   "source": [
    "from twilio.rest import Client\n",
    "\n",
    "# Twilio credentials\n",
    "account_sid = os.getenv('TWILIO_ACCOUNT_SID')\n",
    "auth_token = os.getenv('TWILIO_AUTH_TOKEN')\n",
    "twilio_whatsapp_number = os.getenv('TWILIO_WHATSAPP_NUMBER')\n",
    "\n",
    "# Send WhatsApp message function\n",
    "def send_whatsapp_message(to_number, message):\n",
    "    client = Client(account_sid, auth_token)\n",
    "    message = client.messages.create(\n",
    "        body=message,\n",
    "        from_=twilio_whatsapp_number,\n",
    "        to=f'whatsapp:+{to_number}'\n",
    "    )\n",
    "    print(f\"Message sent to {to_number}\")\n",
    "\n",
    "# Test sending a message\n",
    "send_whatsapp_message('918969401606', 'Hello from Twilio WhatsApp Sandbox!')\n"
   ]
  },
  {
   "cell_type": "code",
   "execution_count": null,
   "id": "297d319a-874d-4f7d-8314-a95cd5d72846",
   "metadata": {},
   "outputs": [],
   "source": []
  }
 ],
 "metadata": {
  "kernelspec": {
   "display_name": "Python 3 (ipykernel)",
   "language": "python",
   "name": "python3"
  },
  "language_info": {
   "codemirror_mode": {
    "name": "ipython",
    "version": 3
   },
   "file_extension": ".py",
   "mimetype": "text/x-python",
   "name": "python",
   "nbconvert_exporter": "python",
   "pygments_lexer": "ipython3",
   "version": "3.12.5"
  }
 },
 "nbformat": 4,
 "nbformat_minor": 5
}
